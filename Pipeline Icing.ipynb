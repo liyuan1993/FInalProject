{
 "cells": [
  {
   "cell_type": "code",
   "execution_count": 22,
   "metadata": {},
   "outputs": [
    {
     "name": "stdout",
     "output_type": "stream",
     "text": [
      "Temperatures are in degrees C\n",
      "h is in w/m2k\n",
      "k is in w2/m2k\n",
      "length is in meters\n",
      "pipe radius is in cm\n",
      "time is in minutes\n"
     ]
    },
    {
     "data": {
      "application/vnd.jupyter.widget-view+json": {
       "model_id": "9c65b8f183b3425f9345db53d2dd2a9f",
       "version_major": 2,
       "version_minor": 0
      },
      "text/plain": [
       "interactive(children=(FloatSlider(value=-10.0, description='Fluid_Temp', max=50.0, min=-273.0, step=1.0), Floa…"
      ]
     },
     "metadata": {},
     "output_type": "display_data"
    }
   ],
   "source": [
    "from math import log\n",
    "from math import sqrt\n",
    "from ipywidgets import widgets, interact\n",
    "from IPython.display import display\n",
    "%matplotlib inline\n",
    "import seaborn as sbn\n",
    "import matplotlib.pyplot as plt\n",
    "import numpy as np\n",
    "from IPython.core.pylabtools import figsize\n",
    "from ipywidgets import widgets, interact\n",
    "from IPython.display import display\n",
    "%matplotlib inline\n",
    "import seaborn as sbn\n",
    "import matplotlib.pyplot as plt\n",
    "import numpy as np\n",
    "from IPython.core.pylabtools import figsize\n",
    "figsize(12, 10)\n",
    "sbn.set_context(\"talk\", font_scale=1)\n",
    "figsize(12, 10)\n",
    "sbn.set_context(\"talk\", font_scale=1)\n",
    "def Rice(Fluid_temp,\n",
    "             Air_temp,\n",
    "             Fluid_h,\n",
    "             Pipe_k,\n",
    "             Pipe_Radius_Internal,\n",
    "             Pipe_Radius_External,\n",
    "         Pipe_Length=1,\n",
    "         Water_h=2250,\n",
    "             Air_h=50,\n",
    "             Tsurf=273.15\n",
    "            ):\n",
    "\n",
    "    Tair=(Air_temp+273.15)\n",
    "    WA_h=Air_h/Water_h\n",
    "    L=Pipe_Length\n",
    "    Ri=(Pipe_Radius_Internal*0.01) #m\n",
    "    Ro=(Pipe_Radius_External*0.01) #m\n",
    "    Tfluid=(Fluid_temp+273.15)\n",
    "    Resistance_fluid = 1/(Fluid_h)*(2)*(3.14159)*(Ri)*(L)\n",
    "    Resistance_Pipe=(Ro/Ri)/(2*3.14*Pipe_k)\n",
    "    Resistance_Iceonwall= 1 / (Water_h)*(2)*(3.14159)*(Ro)*(L)\n",
    "    Resistance_Sub=Resistance_fluid+Resistance_Pipe+Resistance_Iceonwall\n",
    "\n",
    "    Rice=-100*((WA_h+1)*(Tsurf-Tair)-(Tfluid-Tair))/(((Resistance_Sub)+(Tsurf-Tair))*(Air_h*2*3.14159*L))\n",
    "    return Rice\n",
    "def Rate(Air_temp,\n",
    "        Fluid_temp,\n",
    "         time,\n",
    "         k=2.22,\n",
    "         roe=1000,\n",
    "         Hia=10,\n",
    "         fusion=334 #j\n",
    "        ):\n",
    "\n",
    "    Tair=(Air_temp+273.15)\n",
    "    Tfluid=(Fluid_temp+273.15)\n",
    "    t=(time*30)\n",
    "\n",
    "    Rate=sqrt(((2*k)/(roe*fusion))*(abs(Tfluid-Tair))*t+((k/Hia)*(k/Hia)))-(k/Hia)\n",
    "    return Rate\n",
    "\n",
    "print (\"Temperatures are in degrees C\\nh is in w/m2k\\nk is in w2/m2k\\nlength is in meters\\npipe radius is in cm\\ntime is in minutes\")\n",
    "@interact(Fluid_Temp=widgets.FloatSlider(value=-10, min=-273, max=50, step=1), \n",
    "          Air_Temp=widgets.FloatSlider(value=25, min=10, max=100, step=1),\n",
    "          h_of_Fluid=widgets.FloatSlider(value=10, min=0.1, max=100, step=.1), \n",
    "          k_of_Pipe=widgets.FloatSlider(value=16, min=0.1, max=100, step=0.1), \n",
    "          Pipe_R_int=widgets.FloatSlider(value=1, min=0.1, max=20, step=0.1),\n",
    "          Pipe_R_ext=widgets.FloatSlider(value=1, min=0.1, max=20, step=0.1),\n",
    "          time=widgets.FloatSlider(value=5, min=0, max=100, step=.5))\n",
    "def final(Fluid_Temp,Air_Temp,h_of_Fluid,k_of_Pipe,Pipe_R_int,Pipe_R_ext,time):\n",
    "    ball = Rice(Fluid_temp = Fluid_Temp,\n",
    "             Air_temp = Air_Temp,\n",
    "             Fluid_h = h_of_Fluid,\n",
    "             Pipe_k = k_of_Pipe,\n",
    "             Pipe_Radius_Internal = Pipe_R_int,\n",
    "             Pipe_Radius_External = Pipe_R_ext,\n",
    "            Pipe_Length = 1,\n",
    "             Water_h=2250,\n",
    "             Air_h=50,\n",
    "             Tsurf=273.15\n",
    "                )\n",
    "    growth = Rate(Fluid_temp = Fluid_Temp,\n",
    "             Air_temp = Air_Temp,\n",
    "             time = time,\n",
    "             k=2.22,\n",
    "             roe=1000,\n",
    "             Hia=10,\n",
    "             fusion=334\n",
    "                         )\n",
    "\n",
    "    \n",
    "    if Pipe_R_int > Pipe_R_ext:\n",
    "        return print(\"The internal radius cannot be larger that the external radius\")\n",
    "    if ball>0 and growth<ball:\n",
    "        return print(\"The current thickness of the ice is {} cm\".format(round(growth, 2)),\"\\nThe max thickness of the ice is {} cm\".format(round(ball, 2)))\n",
    "    if ball>0 and growth>=ball:\n",
    "        return print(\"The current thickness of the ice is {} cm\".format(round(ball, 2)),\"\\nThe max thickness of the ice is {} cm\".format(round(ball, 2)))\n",
    "    else:\n",
    "        return print(\"The thickness of the ice is 0 cm\")"
   ]
  },
  {
   "cell_type": "code",
   "execution_count": 23,
   "metadata": {},
   "outputs": [],
   "source": [
    "number_sims = 1000\n",
    "\n",
    "# Make some random data in the correct ranges\n",
    "mc_Fluid_Temp = np.random.uniform(2.3, 22, number_sims)\n",
    "mc_Air_Temp = np.random.uniform(50, 100, number_sims)\n",
    "mc_h_of_Fluid = np.random.uniform(0, 80, number_sims)\n",
    "mc_k_of_Pipe = np.random.uniform(0, 80, number_sims)\n",
    "mc_Ri = np.random.uniform(0.5, 24, number_sims)\n",
    "mc_Ro = np.random.uniform(0.5, 24, number_sims)\n",
    "\n",
    "\n",
    "data = np.array((mc_Fluid_Temp, \n",
    "                 mc_Air_Temp, \n",
    "                 mc_h_of_Fluid, \n",
    "                 mc_k_of_Pipe, \n",
    "                 mc_Ri,\n",
    "                 mc_Ro\n",
    "                 ))\n",
    "\n",
    "y = Rice(mc_Fluid_Temp, \n",
    "                 mc_Air_Temp, \n",
    "                 mc_h_of_Fluid, \n",
    "                 mc_k_of_Pipe, \n",
    "                 mc_Ri,\n",
    "                 mc_Ro\n",
    "                 )\n"
   ]
  },
  {
   "cell_type": "code",
   "execution_count": 24,
   "metadata": {},
   "outputs": [
    {
     "data": {
      "text/plain": [
       "(6, 1000)"
      ]
     },
     "execution_count": 24,
     "metadata": {},
     "output_type": "execute_result"
    }
   ],
   "source": [
    "data.shape"
   ]
  },
  {
   "cell_type": "code",
   "execution_count": 25,
   "metadata": {},
   "outputs": [],
   "source": [
    "import SALib\n",
    "from SALib.sample import morris as ms\n",
    "from SALib.analyze import morris as ma\n",
    "from SALib.plotting import morris as mp\n",
    "morris_problem = {\n",
    "    # There are six variables\n",
    "    'num_vars': 7,\n",
    "    # These are their names\n",
    "    'names': ['Fluid_Temp', 'Air_Tem', 'h_of_Fluid', 'k_of_Pipe', 'Pipe_Length', 'Pipe_R_in', 'Pipe_R_ext'],\n",
    "    # These are their plausible ranges over which we'll move the variables\n",
    "    'bounds': [[-273, 50], \n",
    "               [10, 100], \n",
    "               [0.1, 100], \n",
    "               [0.1, 100], \n",
    "               [0.1, 100], \n",
    "               [0.1, 20], \n",
    "               [0.1, 20] \n",
    "              ],\n",
    "    # I don't want to group any of these variables together\n",
    "    'groups': None\n",
    "    }"
   ]
  },
  {
   "cell_type": "code",
   "execution_count": 26,
   "metadata": {},
   "outputs": [
    {
     "data": {
      "text/plain": [
       "(80000, 7)"
      ]
     },
     "execution_count": 26,
     "metadata": {},
     "output_type": "execute_result"
    }
   ],
   "source": [
    "num_levels = 4\n",
    "grid_jump = 2\n",
    "trajectories = int(1e4)\n",
    "sample = ms.sample(morris_problem, trajectories, num_levels, grid_jump)\n",
    "sample.shape"
   ]
  },
  {
   "cell_type": "code",
   "execution_count": 27,
   "metadata": {},
   "outputs": [
    {
     "name": "stdout",
     "output_type": "stream",
     "text": [
      "(7, 80000)\n",
      "[[ 5.00000000e+01  5.00000000e+01  5.00000000e+01 ... -1.65333333e+02\n",
      "  -1.65333333e+02 -1.65333333e+02]\n",
      " [ 1.00000000e+02  1.00000000e+02  4.00000000e+01 ...  4.00000000e+01\n",
      "   4.00000000e+01  1.00000000e+02]\n",
      " [ 1.00000000e-01  1.00000000e-01  1.00000000e-01 ...  1.00000000e-01\n",
      "   1.00000000e-01  1.00000000e-01]\n",
      " ...\n",
      " [ 6.67000000e+01  6.67000000e+01  6.67000000e+01 ...  6.67000000e+01\n",
      "   6.67000000e+01  6.67000000e+01]\n",
      " [ 2.00000000e+01  2.00000000e+01  2.00000000e+01 ...  6.73333333e+00\n",
      "   6.73333333e+00  6.73333333e+00]\n",
      " [ 1.00000000e-01  1.33666667e+01  1.33666667e+01 ...  1.00000000e-01\n",
      "   1.00000000e-01  1.00000000e-01]]\n"
     ]
    }
   ],
   "source": [
    "print(sample.T.shape)\n",
    "print(sample.T)"
   ]
  },
  {
   "cell_type": "code",
   "execution_count": 28,
   "metadata": {},
   "outputs": [
    {
     "name": "stdout",
     "output_type": "stream",
     "text": [
      "(80000,)\n",
      "[-1.73500773e+00  2.70238019e-03  2.32964176e-03 ...  1.46178038e+01\n",
      "  1.46176730e+01  5.41911051e+00]\n"
     ]
    }
   ],
   "source": [
    "output = Rice(*sample.T)\n",
    "print(output.shape)\n",
    "print(output)"
   ]
  },
  {
   "cell_type": "code",
   "execution_count": 29,
   "metadata": {},
   "outputs": [
    {
     "name": "stdout",
     "output_type": "stream",
     "text": [
      "Name                      mu mu_star   sigma\n",
      "Fluid_Temp           - 10.14   10.63   31.56\n",
      "Air_Tem              -  7.23    9.00   28.41\n",
      "h_of_Fluid           -  1.16    1.60   13.88\n",
      "k_of_Pipe               0.61    0.99    8.74\n",
      "Pipe_Length             1.45    2.02   13.94\n",
      "Pipe_R_in            -  0.09    0.61    6.80\n",
      "Pipe_R_ext           - 10.49   13.27   34.30\n"
     ]
    }
   ],
   "source": [
    "Si = ma.analyze(morris_problem, \n",
    "                sample, \n",
    "                output, \n",
    "                print_to_console=False, \n",
    "                grid_jump=grid_jump, \n",
    "                num_levels=num_levels)\n",
    "print(\"{:20s} {:>7s} {:>7s} {:>7s}\".format(\"Name\", \"mu\", \"mu_star\", \"sigma\"))\n",
    "for name, s1, st, mean in zip(morris_problem['names'], Si['mu'], Si['mu_star'], Si['sigma']):\n",
    "    print(\"{:20s} {:=7.2f} {:=7.2f} {:=7.2f}\".format(name, s1, st, mean))"
   ]
  },
  {
   "cell_type": "code",
   "execution_count": 30,
   "metadata": {},
   "outputs": [
    {
     "data": {
      "text/plain": [
       "<matplotlib.collections.PathCollection at 0x11253dbe0>"
      ]
     },
     "execution_count": 30,
     "metadata": {},
     "output_type": "execute_result"
    },
    {
     "data": {
      "image/png": "[encoded data removed]",
      "text/plain": [
       "<Figure size 864x720 with 2 Axes>"
      ]
     },
     "metadata": {},
     "output_type": "display_data"
    }
   ],
   "source": [
    "fig, (ax1, ax2) = plt.subplots(1,2)\n",
    "mp.horizontal_bar_plot(ax1, Si, param_dict={})\n",
    "mp.covariance_plot(ax2, Si, {})"
   ]
  },
  {
   "cell_type": "code",
   "execution_count": null,
   "metadata": {},
   "outputs": [],
   "source": []
  }
 ],
 "metadata": {
  "kernelspec": {
   "display_name": "Python 3",
   "language": "python",
   "name": "python3"
  },
  "language_info": {
   "codemirror_mode": {
    "name": "ipython",
    "version": 3
   },
   "file_extension": ".py",
   "mimetype": "text/x-python",
   "name": "python",
   "nbconvert_exporter": "python",
   "pygments_lexer": "ipython3",
   "version": "3.6.5"
  }
 },
 "nbformat": 4,
 "nbformat_minor": 2
}
