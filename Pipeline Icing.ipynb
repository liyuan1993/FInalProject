{
 "cells": [
  {
   "cell_type": "code",
   "execution_count": 1,
   "metadata": {},
   "outputs": [
    {
     "data": {
      "text/plain": [
       "-3.6136086249067567"
      ]
     },
     "execution_count": 1,
     "metadata": {},
     "output_type": "execute_result"
    }
   ],
   "source": [
    "from math import log\n",
    "Fluid_temp=-10 #F\n",
    "Air_temp=25 #C\n",
    "Fluid_h=10 #w/m2k\n",
    "Water_h=2250 #w/m2k\n",
    "Air_h=50 #w/m2k\n",
    "Pipe_k=16 #w/m*k\n",
    "Pipe_Length=1 #m\n",
    "L=Pipe_Length\n",
    "Pipe_Radius_Internal=4 #cm\n",
    "Ri=Pipe_Radius_Internal\n",
    "Pipe_Radius_External=4.2 #cm\n",
    "Ro=Pipe_Radius_External\n",
    "Tf=Fluid_temp\n",
    "Ice_Radius=100 #cm\n",
    "Rice=Ice_Radius\n",
    "Resistance_fluid= 1/(Fluid_h)*(2)*(3.14159)*(Ri)*(L)\n",
    "Resistance_Pipe=(log((Ro/Ri),2.71828))/(2*3.14*Pipe_k*L)\n",
    "Resistance_Iceonwall= 1 / (Water_h)*(2)*(3.14159)*(Ro)*(L)\n",
    "Resistance_IceExterior= 1 / (Water_h)*(2)*(3.14159)*(Rice)*(L)\n",
    "Resistance_AirandIce = 1 / (Air_h)*(2)*(3.14159)*(Rice)*(L)\n",
    "Resistance_Total=Resistance_fluid + Resistance_Pipe + Resistance_Iceonwall + Resistance_IceExterior + Resistance_AirandIce\n",
    "UA=1/Resistance_Total\n",
    "q=(UA)*(Fluid_temp-Air_temp)\n",
    "UA_final=1/Resistance_AirandIce\n",
    "Temp_Surface=(q/(UA_final))+(Air_temp)\n",
    "Temp_Surface"
   ]
  },
  {
   "cell_type": "code",
   "execution_count": 2,
   "metadata": {},
   "outputs": [
    {
     "data": {
      "application/vnd.jupyter.widget-view+json": {
       "model_id": "95e9f678d605479b816bb502bcaa5e79",
       "version_major": 2,
       "version_minor": 0
      },
      "text/plain": [
       "interactive(children=(FloatSlider(value=-120.0, description='temperature', max=-45.0, min=-187.0), Output()), …"
      ]
     },
     "metadata": {},
     "output_type": "display_data"
    },
    {
     "data": {
      "application/vnd.jupyter.widget-view+json": {
       "model_id": "56af15d7af53473e84e69e5b294aa21f",
       "version_major": 2,
       "version_minor": 0
      },
      "text/plain": [
       "interactive(children=(FloatSlider(value=-120.0, description='temperature', max=-45.0, min=-150.0), Output()), …"
      ]
     },
     "metadata": {},
     "output_type": "display_data"
    },
    {
     "data": {
      "application/vnd.jupyter.widget-view+json": {
       "model_id": "bbd1c33b0d8e49afb58b12abf4d5136c",
       "version_major": 2,
       "version_minor": 0
      },
      "text/plain": [
       "interactive(children=(FloatSlider(value=-120.0, description='temperature', max=-45.0, min=-187.0), Output()), …"
      ]
     },
     "metadata": {},
     "output_type": "display_data"
    },
    {
     "data": {
      "application/vnd.jupyter.widget-view+json": {
       "model_id": "8b6b06fc82e741dd9c64f38c4feeb1f1",
       "version_major": 2,
       "version_minor": 0
      },
      "text/plain": [
       "interactive(children=(FloatSlider(value=-120.0, description='temperature', max=-45.0, min=-187.0), Output()), …"
      ]
     },
     "metadata": {},
     "output_type": "display_data"
    },
    {
     "data": {
      "application/vnd.jupyter.widget-view+json": {
       "model_id": "3fa14e06f6e349ee8bccc5006cd10597",
       "version_major": 2,
       "version_minor": 0
      },
      "text/plain": [
       "interactive(children=(FloatSlider(value=-120.0, description='temperature', max=-45.0, min=-187.0), Output()), …"
      ]
     },
     "metadata": {},
     "output_type": "display_data"
    }
   ],
   "source": [
    "from ipywidgets import widgets, interact, fixed\n",
    "%matplotlib inline\n",
    "import seaborn as sbn\n",
    "import matplotlib.pyplot as plt\n",
    "import numpy as np\n",
    "import scipy\n",
    "import scipy.interpolate\n",
    "\n",
    "\n",
    "@interact (temperature=widgets.FloatSlider(value=-120, min=-187, max=-45))\n",
    "def Prandtl_liquidPP(temperature):\n",
    "    T = [-187.7, -173, -153, -133, -113.2, -93.2, -73.2, -53.2, -42.4]\n",
    "    Pr_PP= [99.44, 35.88, 15.11, 8.89, 6.29, 4.94, 4.14, 3.63, 3.43]\n",
    "    interpolation = scipy.interpolate.interp1d(T, Pr_PP, kind=\"quadratic\")\n",
    "    return float(interpolation(temperature))\n",
    "\n",
    "@interact (temperature=widgets.FloatSlider(value=-120, min=-150, max=-45))\n",
    "def ThermalConductivity_liquidPP(temperature):\n",
    "    T = [-150, -125, -100, -75, -50,-44]\n",
    "    k_PP= 1e-3*np.array ([193, 179, 164, 149,134, 129])\n",
    "    interpolation = scipy.interpolate.interp1d(T, k_PP, kind=\"quadratic\")\n",
    "    return float(interpolation(temperature))\n",
    "\n",
    "@interact (temperature=widgets.FloatSlider(value=-120, min=-187, max=-45))\n",
    "#Density calculation\n",
    "def density_liquidPP(temperature):\n",
    "    T = [-187.7, -173, -153, -133, -113.2, -93.2, -73.2, -53.2, -42.4]\n",
    "    rho_PP = [733.1, 718.2, 697.8, 677.6, 657.3, 636.7, 615.5, 593.5 ,581.2]\n",
    "    interpolation = scipy.interpolate.interp1d(T, rho_PP, kind=\"quadratic\")\n",
    "    return float(interpolation(temperature))\n",
    "\n",
    "@interact (temperature=widgets.FloatSlider(value=-120, min=-187, max=-45))\n",
    "#Dynamic Viscosity Calculation\n",
    "def DynamicViscosity_liquidPP(temperature):\n",
    "    T = [-187.7, -173, -153, -133, -113.2, -93.2, -73.2, -53.2, -42.4]\n",
    "    miu_D_PP = 1e-6*np.array([10970, 3778, 1502, 822.9, 535.5, 382.5, 288.2, 224.3,197.9])\n",
    "    interpolation = scipy.interpolate.interp1d(T, miu_D_PP, kind=\"quadratic\")\n",
    "    return float(interpolation(temperature))\n",
    "@interact (temperature=widgets.FloatSlider(value=-120, min=-187, max=-45))\n",
    "#Kinematic Viscosity Calculation\n",
    "def KinematicViscosity_liquidPP(temperature):\n",
    "    T = [-187.7, -173, -153, -133, -113.2, -93.2, -73.2, -53.2, -42.4]\n",
    "    miu_K_PP = 1e-6*np.array([14.72, 5.26, 2.152, 1.214, 0.8147, 0.6008,0.4683, 0.3779, 0.3405])\n",
    "    interpolation = scipy.interpolate.interp1d(T, miu_K_PP, kind=\"quadratic\")\n",
    "    return float(interpolation(temperature))"
   ]
  },
  {
   "cell_type": "code",
   "execution_count": 3,
   "metadata": {},
   "outputs": [
    {
     "data": {
      "application/vnd.jupyter.widget-view+json": {
       "model_id": "76733b82e3be470ab6fe8a04fb875362",
       "version_major": 2,
       "version_minor": 0
      },
      "text/plain": [
       "interactive(children=(FloatSlider(value=10.0, description='velocity', max=20.0), FloatSlider(value=1.0, descri…"
      ]
     },
     "metadata": {},
     "output_type": "display_data"
    }
   ],
   "source": [
    "\"Reynolds Number calculation\"\n",
    "@interact (velocity=widgets.FloatSlider(value=10, min=0, max=20), lengthscale=widgets.FloatSlider(value=1, min=0.5, max=2), \n",
    "           temperature=widgets.FloatSlider(value=-120, min=-187, max=-45))\n",
    "def Reynolds_liquidPP(velocity, lengthscale, temperature):\n",
    "    Reynolds_liquidPP = density_liquidPP(temperature) * velocity * lengthscale / DynamicViscosity_liquidPP(temperature)\n",
    "    return Reynolds_liquidPP"
   ]
  },
  {
   "cell_type": "code",
   "execution_count": 4,
   "metadata": {},
   "outputs": [
    {
     "data": {
      "application/vnd.jupyter.widget-view+json": {
       "model_id": "e7ad5f3be69b454cab43cea2aa42d603",
       "version_major": 2,
       "version_minor": 0
      },
      "text/plain": [
       "interactive(children=(FloatSlider(value=10.0, description='velocity', max=20.0), FloatSlider(value=1.0, descri…"
      ]
     },
     "metadata": {},
     "output_type": "display_data"
    }
   ],
   "source": [
    "@interact (velocity=widgets.FloatSlider(value=10, min=0, max=20), lengthscale=widgets.FloatSlider(value=1, min=0.5, max=2), \n",
    "           temperature=widgets.FloatSlider(value=-120, min=-187, max=-45))\n",
    "def Nusselt_liquidPP(velocity, lengthscale, temperature):\n",
    "    Re_PP = Reynolds_liquidPP(velocity, lengthscale, temperature)\n",
    "    Pr_PP = Prandtl_liquidPP(temperature)\n",
    "    Nusselt_liquidPP = 0.023 * Re_PP**(4/5) * Pr_PP**0.4\n",
    "    return Nusselt_liquidPP"
   ]
  },
  {
   "cell_type": "code",
   "execution_count": 5,
   "metadata": {},
   "outputs": [
    {
     "data": {
      "application/vnd.jupyter.widget-view+json": {
       "model_id": "b884e22381aa4fc29ea71c12e13c053f",
       "version_major": 2,
       "version_minor": 0
      },
      "text/plain": [
       "interactive(children=(FloatSlider(value=10.0, description='velocity', max=20.0), FloatSlider(value=1.0, descri…"
      ]
     },
     "metadata": {},
     "output_type": "display_data"
    }
   ],
   "source": [
    "#Boundary layer thickness of Propane\n",
    "@interact (velocity=widgets.FloatSlider(value=10, min=0, max=20), lengthscale=widgets.FloatSlider(value=1, min=0.5, max=2), \n",
    "           temperature=widgets.FloatSlider(value=-120, min=-187, max=-45))\n",
    "def Boundary_PP(velocity, lengthscale, temperature):\n",
    "    mu_k_PP = KinematicViscosity_liquidPP (temperature)\n",
    "    Pr_PP = Prandtl_liquidPP(temperature)\n",
    "    Boundary_PP = 0.37 *  lengthscale / (velocity*lengthscale/mu_k_PP)**0.2\n",
    "    return  Boundary_PP"
   ]
  },
  {
   "cell_type": "code",
   "execution_count": 9,
   "metadata": {},
   "outputs": [
    {
     "data": {
      "application/vnd.jupyter.widget-view+json": {
       "model_id": "a1f707ae90af4ac7a6766a772f2bc333",
       "version_major": 2,
       "version_minor": 0
      },
      "text/plain": [
       "interactive(children=(FloatSlider(value=10.0, description='velocity', max=20.0), FloatSlider(value=1.0, descri…"
      ]
     },
     "metadata": {},
     "output_type": "display_data"
    }
   ],
   "source": [
    "#Heat transfer coeffecient of Propane from -150 C to -45 C\n",
    "@interact (velocity=widgets.FloatSlider(value=10, min=0, max=20), lengthscale=widgets.FloatSlider(value=1, min=0.5, max=2), \n",
    "           temperature=widgets.FloatSlider(value=-120, min=-150, max=-45))\n",
    "def heat_transfer_coefficient_PP (velocity, lengthscale, temperature):\n",
    "    Nu_PP = Nusselt_liquidPP(velocity, lengthscale, temperature)\n",
    "    k_PP = ThermalConductivity_liquidPP(temperature)\n",
    "    L = Boundary_PP(velocity, lengthscale, temperature)\n",
    "    h_PP = Nu_PP * k_PP / lengthscale\n",
    "    return h_PP"
   ]
  },
  {
   "cell_type": "code",
   "execution_count": null,
   "metadata": {},
   "outputs": [],
   "source": []
  }
 ],
 "metadata": {
  "kernelspec": {
   "display_name": "Python 3",
   "language": "python",
   "name": "python3"
  },
  "language_info": {
   "codemirror_mode": {
    "name": "ipython",
    "version": 3
   },
   "file_extension": ".py",
   "mimetype": "text/x-python",
   "name": "python",
   "nbconvert_exporter": "python",
   "pygments_lexer": "ipython3",
   "version": "3.6.5"
  }
 },
 "nbformat": 4,
 "nbformat_minor": 2
}
