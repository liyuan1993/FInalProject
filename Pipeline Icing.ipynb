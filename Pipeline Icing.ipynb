{
 "cells": [
  {
   "cell_type": "code",
   "execution_count": 5,
   "metadata": {},
   "outputs": [
    {
     "data": {
      "text/plain": [
       "0.4242161224603258"
      ]
     },
     "execution_count": 5,
     "metadata": {},
     "output_type": "execute_result"
    }
   ],
   "source": [
    "from math import log\n",
    "Fluid_temp=-10 #F\n",
    "Air_temp=25 #C\n",
    "Fluid_h=10 #w/m2k\n",
    "Water_h=2250 #w/m2k\n",
    "Air_h=50 #w/m2k\n",
    "Pipe_k=16 #w/m*k\n",
    "Pipe_Length=1 #m\n",
    "L=Pipe_Length\n",
    "Pipe_Radius_Internal=4 #cm\n",
    "Ri=Pipe_Radius_Internal\n",
    "Pipe_Radius_External=4.2 #cm\n",
    "Ro=Pipe_Radius_External\n",
    "Tf=Fluid_temp\n",
    "Ice_Radius=100 #cm\n",
    "Rice=Ice_Radius\n",
    "Resistance_fluid= 1/(Fluid_h)*(2)*(3.14159)*(Ri)*(L)\n",
    "Resistance_Pipe=(log((Ro/Ri),2.71828))/(2*3.14*Pipe_k*L)\n",
    "Resistance_Iceonwall= 1 / (Water_h)*(2)*(3.14159)*(Ro)*(L)\n",
    "Resistance_IceExterior= 1 / (Water_h)*(2)*(3.14159)*(Rice)*(L)\n",
    "Resistance_AirandIce = 1 / (Air_h)*(2)*(3.14159)*(Rice)*(L)\n",
    "Resistance_Total=Resistance_fluid + Resistance_Pipe + Resistance_Iceonwall + Resistance_IceExterior + Resistance_AirandIce\n",
    "UA=1/Resistance_Total\n",
    "q=(UA)*(Fluid_temp-Air_temp)\n",
    "UA_final=1/Resistance_AirandIce\n",
    "Temp_Surface=(q/(UA_final))+(Air_temp)\n",
    "Temp_Surface"
   ]
  },
  {
   "cell_type": "code",
   "execution_count": null,
   "metadata": {},
   "outputs": [],
   "source": []
  }
 ],
 "metadata": {
  "kernelspec": {
   "display_name": "Python 3",
   "language": "python",
   "name": "python3"
  },
  "language_info": {
   "codemirror_mode": {
    "name": "ipython",
    "version": 3
   },
   "file_extension": ".py",
   "mimetype": "text/x-python",
   "name": "python",
   "nbconvert_exporter": "python",
   "pygments_lexer": "ipython3",
   "version": "3.6.5"
  }
 },
 "nbformat": 4,
 "nbformat_minor": 2
}
