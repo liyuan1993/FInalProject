{
 "cells": [
  {
   "cell_type": "code",
   "execution_count": 1,
   "metadata": {},
   "outputs": [
    {
     "data": {
      "text/plain": [
       "-3.6136086249067567"
      ]
     },
     "execution_count": 1,
     "metadata": {},
     "output_type": "execute_result"
    }
   ],
   "source": [
    "from math import log\n",
    "Fluid_temp=-10 #F\n",
    "Air_temp=25 #C\n",
    "Fluid_h=10 #w/m2k\n",
    "Water_h=2250 #w/m2k\n",
    "Air_h=50 #w/m2k\n",
    "Pipe_k=16 #w/m*k\n",
    "Pipe_Length=1 #m\n",
    "L=Pipe_Length\n",
    "Pipe_Radius_Internal=4 #cm\n",
    "Ri=Pipe_Radius_Internal\n",
    "Pipe_Radius_External=4.2 #cm\n",
    "Ro=Pipe_Radius_External\n",
    "Tf=Fluid_temp\n",
    "Ice_Radius=100 #cm\n",
    "Rice=Ice_Radius\n",
    "Resistance_fluid= 1/(Fluid_h)*(2)*(3.14159)*(Ri)*(L)\n",
    "Resistance_Pipe=(log((Ro/Ri),2.71828))/(2*3.14*Pipe_k*L)\n",
    "Resistance_Iceonwall= 1 / (Water_h)*(2)*(3.14159)*(Ro)*(L)\n",
    "Resistance_IceExterior= 1 / (Water_h)*(2)*(3.14159)*(Rice)*(L)\n",
    "Resistance_AirandIce = 1 / (Air_h)*(2)*(3.14159)*(Rice)*(L)\n",
    "Resistance_Total=Resistance_fluid + Resistance_Pipe + Resistance_Iceonwall + Resistance_IceExterior + Resistance_AirandIce\n",
    "UA=1/Resistance_Total\n",
    "q=(UA)*(Fluid_temp-Air_temp)\n",
    "UA_final=1/Resistance_AirandIce\n",
    "Temp_Surface=(q/(UA_final))+(Air_temp)\n",
    "Temp_Surface"
   ]
  },
  {
   "cell_type": "code",
   "execution_count": 16,
   "metadata": {},
   "outputs": [
    {
     "data": {
      "application/vnd.jupyter.widget-view+json": {
       "model_id": "1f7bc2411dca48228684172e0af85e23",
       "version_major": 2,
       "version_minor": 0
      },
      "text/plain": [
       "interactive(children=(FloatSlider(value=-120.0, description='temperature', max=-45.0, min=-150.0), Output()), …"
      ]
     },
     "metadata": {},
     "output_type": "display_data"
    },
    {
     "data": {
      "application/vnd.jupyter.widget-view+json": {
       "model_id": "d7c4f0d954d54091aee5582f8cc07d9a",
       "version_major": 2,
       "version_minor": 0
      },
      "text/plain": [
       "interactive(children=(FloatSlider(value=-120.0, description='temperature', max=-45.0, min=-150.0), Output()), …"
      ]
     },
     "metadata": {},
     "output_type": "display_data"
    },
    {
     "data": {
      "application/vnd.jupyter.widget-view+json": {
       "model_id": "d07196c02dee4ac6971f1ed67854cd47",
       "version_major": 2,
       "version_minor": 0
      },
      "text/plain": [
       "interactive(children=(FloatSlider(value=-120.0, description='temperature', max=-45.0, min=-150.0), Output()), …"
      ]
     },
     "metadata": {},
     "output_type": "display_data"
    },
    {
     "data": {
      "application/vnd.jupyter.widget-view+json": {
       "model_id": "dfca2b159ef24ecc89a14fa142b4ef49",
       "version_major": 2,
       "version_minor": 0
      },
      "text/plain": [
       "interactive(children=(FloatSlider(value=-120.0, description='temperature', max=-45.0, min=-150.0), Output()), …"
      ]
     },
     "metadata": {},
     "output_type": "display_data"
    },
    {
     "data": {
      "application/vnd.jupyter.widget-view+json": {
       "model_id": "b7dcf5c116554a3d99c9970758431903",
       "version_major": 2,
       "version_minor": 0
      },
      "text/plain": [
       "interactive(children=(FloatSlider(value=-120.0, description='temperature', max=-45.0, min=-150.0), Output()), …"
      ]
     },
     "metadata": {},
     "output_type": "display_data"
    }
   ],
   "source": [
    "from ipywidgets import widgets, interact, fixed\n",
    "%matplotlib inline\n",
    "import seaborn as sbn\n",
    "import matplotlib.pyplot as plt\n",
    "import numpy as np\n",
    "import scipy\n",
    "import scipy.interpolate\n",
    "\n",
    "\n",
    "@interact (temperature=widgets.FloatSlider(value=-120, min=-150, max=-45))\n",
    "def Prandtl_liquidPP(temperature):\n",
    "    T = [-187.7, -173, -153, -133, -113.2, -93.2, -73.2, -53.2, -42.4]\n",
    "    Pr_PP= [99.44, 35.88, 15.11, 8.89, 6.29, 4.94, 4.14, 3.63, 3.43]\n",
    "    interpolation = scipy.interpolate.interp1d(T, Pr_PP, kind=\"quadratic\")\n",
    "    return float(interpolation(temperature))\n",
    "\n",
    "@interact (temperature=widgets.FloatSlider(value=-120, min=-150, max=-45))\n",
    "def ThermalConductivity_liquidPP(temperature):\n",
    "    T = [-150, -125, -100, -75, -50,-44]\n",
    "    k_PP= 1e-3*np.array ([193, 179, 164, 149,134, 129])\n",
    "    interpolation = scipy.interpolate.interp1d(T, k_PP, kind=\"quadratic\")\n",
    "    return float(interpolation(temperature))\n",
    "\n",
    "@interact (temperature=widgets.FloatSlider(value=-120, min=-150, max=-45))\n",
    "#Density calculation\n",
    "def density_liquidPP(temperature):\n",
    "    T = [-187.7, -173, -153, -133, -113.2, -93.2, -73.2, -53.2, -42.4]\n",
    "    rho_PP = [733.1, 718.2, 697.8, 677.6, 657.3, 636.7, 615.5, 593.5 ,581.2]\n",
    "    interpolation = scipy.interpolate.interp1d(T, rho_PP, kind=\"quadratic\")\n",
    "    return float(interpolation(temperature))\n",
    "\n",
    "@interact (temperature=widgets.FloatSlider(value=-120, min=-150, max=-45))\n",
    "#Dynamic Viscosity Calculation\n",
    "def DynamicViscosity_liquidPP(temperature):\n",
    "    T = [-187.7, -173, -153, -133, -113.2, -93.2, -73.2, -53.2, -42.4]\n",
    "    miu_D_PP = 1e-6*np.array([10970, 3778, 1502, 822.9, 535.5, 382.5, 288.2, 224.3,197.9])\n",
    "    interpolation = scipy.interpolate.interp1d(T, miu_D_PP, kind=\"quadratic\")\n",
    "    return float(interpolation(temperature))\n",
    "\n",
    "@interact (temperature=widgets.FloatSlider(value=-120, min=-150, max=-45))\n",
    "#Kinematic Viscosity Calculation\n",
    "def KinematicViscosity_liquidPP(temperature):\n",
    "    T = [-187.7, -173, -153, -133, -113.2, -93.2, -73.2, -53.2, -42.4]\n",
    "    miu_K_PP = 1e-6*np.array([14.72, 5.26, 2.152, 1.214, 0.8147, 0.6008,0.4683, 0.3779, 0.3405])\n",
    "    interpolation = scipy.interpolate.interp1d(T, miu_K_PP, kind=\"quadratic\")\n",
    "    return float(interpolation(temperature))"
   ]
  },
  {
   "cell_type": "code",
   "execution_count": 17,
   "metadata": {},
   "outputs": [
    {
     "data": {
      "application/vnd.jupyter.widget-view+json": {
       "model_id": "ae883b0356e247e19aeca079cf6b5cf2",
       "version_major": 2,
       "version_minor": 0
      },
      "text/plain": [
       "interactive(children=(FloatSlider(value=10.0, description='velocity', max=20.0), FloatSlider(value=1.0, descri…"
      ]
     },
     "metadata": {},
     "output_type": "display_data"
    }
   ],
   "source": [
    "\"Reynolds Number calculation\"\n",
    "@interact (velocity=widgets.FloatSlider(value=10, min=0, max=20), \n",
    "           lengthscale=widgets.FloatSlider(value=1, min=0.5, max=2), \n",
    "           temperature=widgets.FloatSlider(value=-120, min=-150, max=-45))\n",
    "def Reynolds_liquidPP(velocity, lengthscale, temperature):\n",
    "    rho_PP = density_liquidPP(temperature)\n",
    "    miu_D_PP = DynamicViscosity_liquidPP(temperature)\n",
    "    Reynolds_liquidPP = rho_PP * velocity * lengthscale / miu_D_PP\n",
    "    return Reynolds_liquidPP"
   ]
  },
  {
   "cell_type": "code",
   "execution_count": 18,
   "metadata": {},
   "outputs": [
    {
     "data": {
      "application/vnd.jupyter.widget-view+json": {
       "model_id": "40863332a9c84e56a8e23fb1aeae8ce1",
       "version_major": 2,
       "version_minor": 0
      },
      "text/plain": [
       "interactive(children=(FloatSlider(value=10.0, description='velocity', max=20.0), FloatSlider(value=1.0, descri…"
      ]
     },
     "metadata": {},
     "output_type": "display_data"
    }
   ],
   "source": [
    "@interact (velocity=widgets.FloatSlider(value=10, min=0, max=20), \n",
    "           lengthscale=widgets.FloatSlider(value=1, min=0.5, max=2), \n",
    "           temperature=widgets.FloatSlider(value=-120, min=-150, max=-45))\n",
    "def Nusselt_liquidPP(velocity, lengthscale, temperature):\n",
    "    Re_PP = Reynolds_liquidPP(velocity, lengthscale, temperature)\n",
    "    Pr_PP = Prandtl_liquidPP(temperature)\n",
    "    Nusselt_liquidPP = 0.023 * Re_PP**(4/5) * Pr_PP**0.4\n",
    "    return Nusselt_liquidPP"
   ]
  },
  {
   "cell_type": "code",
   "execution_count": 19,
   "metadata": {},
   "outputs": [
    {
     "data": {
      "application/vnd.jupyter.widget-view+json": {
       "model_id": "e30f92c82a7648ca8a326cb74f00157a",
       "version_major": 2,
       "version_minor": 0
      },
      "text/plain": [
       "interactive(children=(FloatSlider(value=10.0, description='velocity', max=20.0), FloatSlider(value=1.0, descri…"
      ]
     },
     "metadata": {},
     "output_type": "display_data"
    }
   ],
   "source": [
    "#Boundary layer thickness of Propane\n",
    "@interact (velocity=widgets.FloatSlider(value=10, min=0, max=20), \n",
    "           lengthscale=widgets.FloatSlider(value=1, min=0.5, max=2), \n",
    "           temperature=widgets.FloatSlider(value=-120, min=-150, max=-45))\n",
    "def Boundary_PP(velocity, lengthscale, temperature):\n",
    "    mu_k_PP = KinematicViscosity_liquidPP (temperature)\n",
    "    Pr_PP = Prandtl_liquidPP(temperature)\n",
    "    Boundary_PP = 0.37 *  lengthscale / (velocity*lengthscale/mu_k_PP)**0.2\n",
    "    return  Boundary_PP"
   ]
  },
  {
   "cell_type": "code",
   "execution_count": 20,
   "metadata": {},
   "outputs": [
    {
     "data": {
      "application/vnd.jupyter.widget-view+json": {
       "model_id": "99195fd57f6d47a79aefcb661d415bd4",
       "version_major": 2,
       "version_minor": 0
      },
      "text/plain": [
       "interactive(children=(FloatSlider(value=10.0, description='velocity', max=20.0), FloatSlider(value=1.0, descri…"
      ]
     },
     "metadata": {},
     "output_type": "display_data"
    }
   ],
   "source": [
    "#Heat transfer coeffecient of Propane from -150 C to -45 C\n",
    "@interact (velocity=widgets.FloatSlider(value=10, min=0, max=20), \n",
    "           lengthscale=widgets.FloatSlider(value=1, min=0.5, max=2), \n",
    "           temperature=widgets.FloatSlider(value=-120, min=-150, max=-45))\n",
    "def heat_transfer_coefficient_PP (velocity, lengthscale, temperature):\n",
    "    Nu_PP = Nusselt_liquidPP(velocity, lengthscale, temperature)\n",
    "    k_PP = ThermalConductivity_liquidPP(temperature)\n",
    "    L = Boundary_PP(velocity, lengthscale, temperature)\n",
    "    h_PP = Nu_PP * k_PP / lengthscale\n",
    "    return h_PP"
   ]
  },
  {
   "cell_type": "code",
   "execution_count": 21,
   "metadata": {},
   "outputs": [],
   "source": [
    "#Morris Method\n",
    "import SALib\n",
    "from SALib.sample import morris as ms\n",
    "from SALib.analyze import morris as ma\n",
    "from SALib.plotting import morris as mp"
   ]
  },
  {
   "cell_type": "code",
   "execution_count": 22,
   "metadata": {},
   "outputs": [],
   "source": [
    "morris_problem = {\n",
    "    # There are three variables\n",
    "    'num_vars': 3,\n",
    "    'names': ['velocity', 'lengthscale', 'temperature'],\n",
    "    # These are their ranges over which we'll move the variables\n",
    "    'bounds': [[0, 20], #velocity (m/s)\n",
    "               [1, 2], # length (m)\n",
    "               [-150, -45], # temperature (C) \n",
    "               ],\n",
    "    'groups': None\n",
    "    }"
   ]
  },
  {
   "cell_type": "code",
   "execution_count": 23,
   "metadata": {},
   "outputs": [
    {
     "data": {
      "text/plain": [
       "(40000, 3)"
      ]
     },
     "execution_count": 23,
     "metadata": {},
     "output_type": "execute_result"
    }
   ],
   "source": [
    "num_levels = 4\n",
    "grid_jump = 2\n",
    "trajectories = int(1e4)\n",
    "sample = ms.sample(morris_problem, trajectories, num_levels, grid_jump)\n",
    "sample.shape"
   ]
  },
  {
   "cell_type": "code",
   "execution_count": 24,
   "metadata": {},
   "outputs": [
    {
     "name": "stdout",
     "output_type": "stream",
     "text": [
      "(3, 40000)\n",
      "[[   6.66666667    6.66666667   20.         ...   13.33333333\n",
      "    13.33333333    0.        ]\n",
      " [   1.33333333    2.            2.         ...    1.66666667\n",
      "     1.            1.        ]\n",
      " [ -45.          -45.          -45.         ... -150.\n",
      "  -150.         -150.        ]]\n"
     ]
    }
   ],
   "source": [
    "print(sample.T.shape)\n",
    "print(sample.T)"
   ]
  },
  {
   "cell_type": "code",
   "execution_count": 25,
   "metadata": {},
   "outputs": [
    {
     "ename": "TypeError",
     "evalue": "only size-1 arrays can be converted to Python scalars",
     "output_type": "error",
     "traceback": [
      "\u001b[0;31m---------------------------------------------------------------------------\u001b[0m",
      "\u001b[0;31mTypeError\u001b[0m                                 Traceback (most recent call last)",
      "\u001b[0;32m<ipython-input-25-28a83bf6656f>\u001b[0m in \u001b[0;36m<module>\u001b[0;34m()\u001b[0m\n\u001b[0;32m----> 1\u001b[0;31m \u001b[0moutput\u001b[0m \u001b[0;34m=\u001b[0m \u001b[0mheat_transfer_coefficient_PP\u001b[0m\u001b[0;34m(\u001b[0m\u001b[0;34m*\u001b[0m\u001b[0msample\u001b[0m\u001b[0;34m.\u001b[0m\u001b[0mT\u001b[0m\u001b[0;34m)\u001b[0m\u001b[0;34m\u001b[0m\u001b[0m\n\u001b[0m\u001b[1;32m      2\u001b[0m \u001b[0mprint\u001b[0m\u001b[0;34m(\u001b[0m\u001b[0moutput\u001b[0m\u001b[0;34m.\u001b[0m\u001b[0mshape\u001b[0m\u001b[0;34m)\u001b[0m\u001b[0;34m\u001b[0m\u001b[0m\n\u001b[1;32m      3\u001b[0m \u001b[0mprint\u001b[0m\u001b[0;34m(\u001b[0m\u001b[0moutput\u001b[0m\u001b[0;34m)\u001b[0m\u001b[0;34m\u001b[0m\u001b[0m\n",
      "\u001b[0;32m<ipython-input-20-fdb8a20f1e69>\u001b[0m in \u001b[0;36mheat_transfer_coefficient_PP\u001b[0;34m(velocity, lengthscale, temperature)\u001b[0m\n\u001b[1;32m      4\u001b[0m            temperature=widgets.FloatSlider(value=-120, min=-150, max=-45))\n\u001b[1;32m      5\u001b[0m \u001b[0;32mdef\u001b[0m \u001b[0mheat_transfer_coefficient_PP\u001b[0m \u001b[0;34m(\u001b[0m\u001b[0mvelocity\u001b[0m\u001b[0;34m,\u001b[0m \u001b[0mlengthscale\u001b[0m\u001b[0;34m,\u001b[0m \u001b[0mtemperature\u001b[0m\u001b[0;34m)\u001b[0m\u001b[0;34m:\u001b[0m\u001b[0;34m\u001b[0m\u001b[0m\n\u001b[0;32m----> 6\u001b[0;31m     \u001b[0mNu_PP\u001b[0m \u001b[0;34m=\u001b[0m \u001b[0mNusselt_liquidPP\u001b[0m\u001b[0;34m(\u001b[0m\u001b[0mvelocity\u001b[0m\u001b[0;34m,\u001b[0m \u001b[0mlengthscale\u001b[0m\u001b[0;34m,\u001b[0m \u001b[0mtemperature\u001b[0m\u001b[0;34m)\u001b[0m\u001b[0;34m\u001b[0m\u001b[0m\n\u001b[0m\u001b[1;32m      7\u001b[0m     \u001b[0mk_PP\u001b[0m \u001b[0;34m=\u001b[0m \u001b[0mThermalConductivity_liquidPP\u001b[0m\u001b[0;34m(\u001b[0m\u001b[0mtemperature\u001b[0m\u001b[0;34m)\u001b[0m\u001b[0;34m\u001b[0m\u001b[0m\n\u001b[1;32m      8\u001b[0m     \u001b[0mL\u001b[0m \u001b[0;34m=\u001b[0m \u001b[0mBoundary_PP\u001b[0m\u001b[0;34m(\u001b[0m\u001b[0mvelocity\u001b[0m\u001b[0;34m,\u001b[0m \u001b[0mlengthscale\u001b[0m\u001b[0;34m,\u001b[0m \u001b[0mtemperature\u001b[0m\u001b[0;34m)\u001b[0m\u001b[0;34m\u001b[0m\u001b[0m\n",
      "\u001b[0;32m<ipython-input-18-129ff4c317c6>\u001b[0m in \u001b[0;36mNusselt_liquidPP\u001b[0;34m(velocity, lengthscale, temperature)\u001b[0m\n\u001b[1;32m      3\u001b[0m            temperature=widgets.FloatSlider(value=-120, min=-150, max=-45))\n\u001b[1;32m      4\u001b[0m \u001b[0;32mdef\u001b[0m \u001b[0mNusselt_liquidPP\u001b[0m\u001b[0;34m(\u001b[0m\u001b[0mvelocity\u001b[0m\u001b[0;34m,\u001b[0m \u001b[0mlengthscale\u001b[0m\u001b[0;34m,\u001b[0m \u001b[0mtemperature\u001b[0m\u001b[0;34m)\u001b[0m\u001b[0;34m:\u001b[0m\u001b[0;34m\u001b[0m\u001b[0m\n\u001b[0;32m----> 5\u001b[0;31m     \u001b[0mRe_PP\u001b[0m \u001b[0;34m=\u001b[0m \u001b[0mReynolds_liquidPP\u001b[0m\u001b[0;34m(\u001b[0m\u001b[0mvelocity\u001b[0m\u001b[0;34m,\u001b[0m \u001b[0mlengthscale\u001b[0m\u001b[0;34m,\u001b[0m \u001b[0mtemperature\u001b[0m\u001b[0;34m)\u001b[0m\u001b[0;34m\u001b[0m\u001b[0m\n\u001b[0m\u001b[1;32m      6\u001b[0m     \u001b[0mPr_PP\u001b[0m \u001b[0;34m=\u001b[0m \u001b[0mPrandtl_liquidPP\u001b[0m\u001b[0;34m(\u001b[0m\u001b[0mtemperature\u001b[0m\u001b[0;34m)\u001b[0m\u001b[0;34m\u001b[0m\u001b[0m\n\u001b[1;32m      7\u001b[0m     \u001b[0mNusselt_liquidPP\u001b[0m \u001b[0;34m=\u001b[0m \u001b[0;36m0.023\u001b[0m \u001b[0;34m*\u001b[0m \u001b[0mRe_PP\u001b[0m\u001b[0;34m**\u001b[0m\u001b[0;34m(\u001b[0m\u001b[0;36m4\u001b[0m\u001b[0;34m/\u001b[0m\u001b[0;36m5\u001b[0m\u001b[0;34m)\u001b[0m \u001b[0;34m*\u001b[0m \u001b[0mPr_PP\u001b[0m\u001b[0;34m**\u001b[0m\u001b[0;36m0.4\u001b[0m\u001b[0;34m\u001b[0m\u001b[0m\n",
      "\u001b[0;32m<ipython-input-17-69fcf24fbcda>\u001b[0m in \u001b[0;36mReynolds_liquidPP\u001b[0;34m(velocity, lengthscale, temperature)\u001b[0m\n\u001b[1;32m      4\u001b[0m            temperature=widgets.FloatSlider(value=-120, min=-150, max=-45))\n\u001b[1;32m      5\u001b[0m \u001b[0;32mdef\u001b[0m \u001b[0mReynolds_liquidPP\u001b[0m\u001b[0;34m(\u001b[0m\u001b[0mvelocity\u001b[0m\u001b[0;34m,\u001b[0m \u001b[0mlengthscale\u001b[0m\u001b[0;34m,\u001b[0m \u001b[0mtemperature\u001b[0m\u001b[0;34m)\u001b[0m\u001b[0;34m:\u001b[0m\u001b[0;34m\u001b[0m\u001b[0m\n\u001b[0;32m----> 6\u001b[0;31m     \u001b[0mrho_PP\u001b[0m \u001b[0;34m=\u001b[0m \u001b[0mdensity_liquidPP\u001b[0m\u001b[0;34m(\u001b[0m\u001b[0mtemperature\u001b[0m\u001b[0;34m)\u001b[0m\u001b[0;34m\u001b[0m\u001b[0m\n\u001b[0m\u001b[1;32m      7\u001b[0m     \u001b[0mmiu_D_PP\u001b[0m \u001b[0;34m=\u001b[0m \u001b[0mDynamicViscosity_liquidPP\u001b[0m\u001b[0;34m(\u001b[0m\u001b[0mtemperature\u001b[0m\u001b[0;34m)\u001b[0m\u001b[0;34m\u001b[0m\u001b[0m\n\u001b[1;32m      8\u001b[0m     \u001b[0mReynolds_liquidPP\u001b[0m \u001b[0;34m=\u001b[0m \u001b[0mrho_PP\u001b[0m \u001b[0;34m*\u001b[0m \u001b[0mvelocity\u001b[0m \u001b[0;34m*\u001b[0m \u001b[0mlengthscale\u001b[0m \u001b[0;34m/\u001b[0m \u001b[0mmiu_D_PP\u001b[0m\u001b[0;34m\u001b[0m\u001b[0m\n",
      "\u001b[0;32m<ipython-input-16-1e20f32dd7f3>\u001b[0m in \u001b[0;36mdensity_liquidPP\u001b[0;34m(temperature)\u001b[0m\n\u001b[1;32m     28\u001b[0m     \u001b[0mrho_PP\u001b[0m \u001b[0;34m=\u001b[0m \u001b[0;34m[\u001b[0m\u001b[0;36m733.1\u001b[0m\u001b[0;34m,\u001b[0m \u001b[0;36m718.2\u001b[0m\u001b[0;34m,\u001b[0m \u001b[0;36m697.8\u001b[0m\u001b[0;34m,\u001b[0m \u001b[0;36m677.6\u001b[0m\u001b[0;34m,\u001b[0m \u001b[0;36m657.3\u001b[0m\u001b[0;34m,\u001b[0m \u001b[0;36m636.7\u001b[0m\u001b[0;34m,\u001b[0m \u001b[0;36m615.5\u001b[0m\u001b[0;34m,\u001b[0m \u001b[0;36m593.5\u001b[0m \u001b[0;34m,\u001b[0m\u001b[0;36m581.2\u001b[0m\u001b[0;34m]\u001b[0m\u001b[0;34m\u001b[0m\u001b[0m\n\u001b[1;32m     29\u001b[0m     \u001b[0minterpolation\u001b[0m \u001b[0;34m=\u001b[0m \u001b[0mscipy\u001b[0m\u001b[0;34m.\u001b[0m\u001b[0minterpolate\u001b[0m\u001b[0;34m.\u001b[0m\u001b[0minterp1d\u001b[0m\u001b[0;34m(\u001b[0m\u001b[0mT\u001b[0m\u001b[0;34m,\u001b[0m \u001b[0mrho_PP\u001b[0m\u001b[0;34m,\u001b[0m \u001b[0mkind\u001b[0m\u001b[0;34m=\u001b[0m\u001b[0;34m\"quadratic\"\u001b[0m\u001b[0;34m)\u001b[0m\u001b[0;34m\u001b[0m\u001b[0m\n\u001b[0;32m---> 30\u001b[0;31m     \u001b[0;32mreturn\u001b[0m \u001b[0mfloat\u001b[0m\u001b[0;34m(\u001b[0m\u001b[0minterpolation\u001b[0m\u001b[0;34m(\u001b[0m\u001b[0mtemperature\u001b[0m\u001b[0;34m)\u001b[0m\u001b[0;34m)\u001b[0m\u001b[0;34m\u001b[0m\u001b[0m\n\u001b[0m\u001b[1;32m     31\u001b[0m \u001b[0;34m\u001b[0m\u001b[0m\n\u001b[1;32m     32\u001b[0m \u001b[0;34m@\u001b[0m\u001b[0minteract\u001b[0m \u001b[0;34m(\u001b[0m\u001b[0mtemperature\u001b[0m\u001b[0;34m=\u001b[0m\u001b[0mwidgets\u001b[0m\u001b[0;34m.\u001b[0m\u001b[0mFloatSlider\u001b[0m\u001b[0;34m(\u001b[0m\u001b[0mvalue\u001b[0m\u001b[0;34m=\u001b[0m\u001b[0;34m-\u001b[0m\u001b[0;36m120\u001b[0m\u001b[0;34m,\u001b[0m \u001b[0mmin\u001b[0m\u001b[0;34m=\u001b[0m\u001b[0;34m-\u001b[0m\u001b[0;36m150\u001b[0m\u001b[0;34m,\u001b[0m \u001b[0mmax\u001b[0m\u001b[0;34m=\u001b[0m\u001b[0;34m-\u001b[0m\u001b[0;36m45\u001b[0m\u001b[0;34m)\u001b[0m\u001b[0;34m)\u001b[0m\u001b[0;34m\u001b[0m\u001b[0m\n",
      "\u001b[0;31mTypeError\u001b[0m: only size-1 arrays can be converted to Python scalars"
     ]
    }
   ],
   "source": [
    "output = heat_transfer_coefficient_PP(*sample.T)\n",
    "print(output.shape)\n",
    "print(output)"
   ]
  },
  {
   "cell_type": "code",
   "execution_count": 26,
   "metadata": {},
   "outputs": [
    {
     "ename": "TypeError",
     "evalue": "only size-1 arrays can be converted to Python scalars",
     "output_type": "error",
     "traceback": [
      "\u001b[0;31m---------------------------------------------------------------------------\u001b[0m",
      "\u001b[0;31mTypeError\u001b[0m                                 Traceback (most recent call last)",
      "\u001b[0;32m<ipython-input-26-53e2e8c19e1f>\u001b[0m in \u001b[0;36m<module>\u001b[0;34m()\u001b[0m\n\u001b[0;32m----> 1\u001b[0;31m \u001b[0moutput\u001b[0m \u001b[0;34m=\u001b[0m \u001b[0mheat_transfer_coefficient_PP\u001b[0m\u001b[0;34m(\u001b[0m\u001b[0;34m*\u001b[0m\u001b[0msample\u001b[0m\u001b[0;34m.\u001b[0m\u001b[0mT\u001b[0m\u001b[0;34m)\u001b[0m\u001b[0;34m\u001b[0m\u001b[0m\n\u001b[0m\u001b[1;32m      2\u001b[0m Si = ma.analyze(morris_problem, \n\u001b[1;32m      3\u001b[0m                 \u001b[0msample\u001b[0m\u001b[0;34m,\u001b[0m\u001b[0;34m\u001b[0m\u001b[0m\n\u001b[1;32m      4\u001b[0m                 \u001b[0moutput\u001b[0m\u001b[0;34m,\u001b[0m\u001b[0;34m\u001b[0m\u001b[0m\n\u001b[1;32m      5\u001b[0m                 \u001b[0mprint_to_console\u001b[0m\u001b[0;34m=\u001b[0m\u001b[0;32mFalse\u001b[0m\u001b[0;34m,\u001b[0m\u001b[0;34m\u001b[0m\u001b[0m\n",
      "\u001b[0;32m<ipython-input-20-fdb8a20f1e69>\u001b[0m in \u001b[0;36mheat_transfer_coefficient_PP\u001b[0;34m(velocity, lengthscale, temperature)\u001b[0m\n\u001b[1;32m      4\u001b[0m            temperature=widgets.FloatSlider(value=-120, min=-150, max=-45))\n\u001b[1;32m      5\u001b[0m \u001b[0;32mdef\u001b[0m \u001b[0mheat_transfer_coefficient_PP\u001b[0m \u001b[0;34m(\u001b[0m\u001b[0mvelocity\u001b[0m\u001b[0;34m,\u001b[0m \u001b[0mlengthscale\u001b[0m\u001b[0;34m,\u001b[0m \u001b[0mtemperature\u001b[0m\u001b[0;34m)\u001b[0m\u001b[0;34m:\u001b[0m\u001b[0;34m\u001b[0m\u001b[0m\n\u001b[0;32m----> 6\u001b[0;31m     \u001b[0mNu_PP\u001b[0m \u001b[0;34m=\u001b[0m \u001b[0mNusselt_liquidPP\u001b[0m\u001b[0;34m(\u001b[0m\u001b[0mvelocity\u001b[0m\u001b[0;34m,\u001b[0m \u001b[0mlengthscale\u001b[0m\u001b[0;34m,\u001b[0m \u001b[0mtemperature\u001b[0m\u001b[0;34m)\u001b[0m\u001b[0;34m\u001b[0m\u001b[0m\n\u001b[0m\u001b[1;32m      7\u001b[0m     \u001b[0mk_PP\u001b[0m \u001b[0;34m=\u001b[0m \u001b[0mThermalConductivity_liquidPP\u001b[0m\u001b[0;34m(\u001b[0m\u001b[0mtemperature\u001b[0m\u001b[0;34m)\u001b[0m\u001b[0;34m\u001b[0m\u001b[0m\n\u001b[1;32m      8\u001b[0m     \u001b[0mL\u001b[0m \u001b[0;34m=\u001b[0m \u001b[0mBoundary_PP\u001b[0m\u001b[0;34m(\u001b[0m\u001b[0mvelocity\u001b[0m\u001b[0;34m,\u001b[0m \u001b[0mlengthscale\u001b[0m\u001b[0;34m,\u001b[0m \u001b[0mtemperature\u001b[0m\u001b[0;34m)\u001b[0m\u001b[0;34m\u001b[0m\u001b[0m\n",
      "\u001b[0;32m<ipython-input-18-129ff4c317c6>\u001b[0m in \u001b[0;36mNusselt_liquidPP\u001b[0;34m(velocity, lengthscale, temperature)\u001b[0m\n\u001b[1;32m      3\u001b[0m            temperature=widgets.FloatSlider(value=-120, min=-150, max=-45))\n\u001b[1;32m      4\u001b[0m \u001b[0;32mdef\u001b[0m \u001b[0mNusselt_liquidPP\u001b[0m\u001b[0;34m(\u001b[0m\u001b[0mvelocity\u001b[0m\u001b[0;34m,\u001b[0m \u001b[0mlengthscale\u001b[0m\u001b[0;34m,\u001b[0m \u001b[0mtemperature\u001b[0m\u001b[0;34m)\u001b[0m\u001b[0;34m:\u001b[0m\u001b[0;34m\u001b[0m\u001b[0m\n\u001b[0;32m----> 5\u001b[0;31m     \u001b[0mRe_PP\u001b[0m \u001b[0;34m=\u001b[0m \u001b[0mReynolds_liquidPP\u001b[0m\u001b[0;34m(\u001b[0m\u001b[0mvelocity\u001b[0m\u001b[0;34m,\u001b[0m \u001b[0mlengthscale\u001b[0m\u001b[0;34m,\u001b[0m \u001b[0mtemperature\u001b[0m\u001b[0;34m)\u001b[0m\u001b[0;34m\u001b[0m\u001b[0m\n\u001b[0m\u001b[1;32m      6\u001b[0m     \u001b[0mPr_PP\u001b[0m \u001b[0;34m=\u001b[0m \u001b[0mPrandtl_liquidPP\u001b[0m\u001b[0;34m(\u001b[0m\u001b[0mtemperature\u001b[0m\u001b[0;34m)\u001b[0m\u001b[0;34m\u001b[0m\u001b[0m\n\u001b[1;32m      7\u001b[0m     \u001b[0mNusselt_liquidPP\u001b[0m \u001b[0;34m=\u001b[0m \u001b[0;36m0.023\u001b[0m \u001b[0;34m*\u001b[0m \u001b[0mRe_PP\u001b[0m\u001b[0;34m**\u001b[0m\u001b[0;34m(\u001b[0m\u001b[0;36m4\u001b[0m\u001b[0;34m/\u001b[0m\u001b[0;36m5\u001b[0m\u001b[0;34m)\u001b[0m \u001b[0;34m*\u001b[0m \u001b[0mPr_PP\u001b[0m\u001b[0;34m**\u001b[0m\u001b[0;36m0.4\u001b[0m\u001b[0;34m\u001b[0m\u001b[0m\n",
      "\u001b[0;32m<ipython-input-17-69fcf24fbcda>\u001b[0m in \u001b[0;36mReynolds_liquidPP\u001b[0;34m(velocity, lengthscale, temperature)\u001b[0m\n\u001b[1;32m      4\u001b[0m            temperature=widgets.FloatSlider(value=-120, min=-150, max=-45))\n\u001b[1;32m      5\u001b[0m \u001b[0;32mdef\u001b[0m \u001b[0mReynolds_liquidPP\u001b[0m\u001b[0;34m(\u001b[0m\u001b[0mvelocity\u001b[0m\u001b[0;34m,\u001b[0m \u001b[0mlengthscale\u001b[0m\u001b[0;34m,\u001b[0m \u001b[0mtemperature\u001b[0m\u001b[0;34m)\u001b[0m\u001b[0;34m:\u001b[0m\u001b[0;34m\u001b[0m\u001b[0m\n\u001b[0;32m----> 6\u001b[0;31m     \u001b[0mrho_PP\u001b[0m \u001b[0;34m=\u001b[0m \u001b[0mdensity_liquidPP\u001b[0m\u001b[0;34m(\u001b[0m\u001b[0mtemperature\u001b[0m\u001b[0;34m)\u001b[0m\u001b[0;34m\u001b[0m\u001b[0m\n\u001b[0m\u001b[1;32m      7\u001b[0m     \u001b[0mmiu_D_PP\u001b[0m \u001b[0;34m=\u001b[0m \u001b[0mDynamicViscosity_liquidPP\u001b[0m\u001b[0;34m(\u001b[0m\u001b[0mtemperature\u001b[0m\u001b[0;34m)\u001b[0m\u001b[0;34m\u001b[0m\u001b[0m\n\u001b[1;32m      8\u001b[0m     \u001b[0mReynolds_liquidPP\u001b[0m \u001b[0;34m=\u001b[0m \u001b[0mrho_PP\u001b[0m \u001b[0;34m*\u001b[0m \u001b[0mvelocity\u001b[0m \u001b[0;34m*\u001b[0m \u001b[0mlengthscale\u001b[0m \u001b[0;34m/\u001b[0m \u001b[0mmiu_D_PP\u001b[0m\u001b[0;34m\u001b[0m\u001b[0m\n",
      "\u001b[0;32m<ipython-input-16-1e20f32dd7f3>\u001b[0m in \u001b[0;36mdensity_liquidPP\u001b[0;34m(temperature)\u001b[0m\n\u001b[1;32m     28\u001b[0m     \u001b[0mrho_PP\u001b[0m \u001b[0;34m=\u001b[0m \u001b[0;34m[\u001b[0m\u001b[0;36m733.1\u001b[0m\u001b[0;34m,\u001b[0m \u001b[0;36m718.2\u001b[0m\u001b[0;34m,\u001b[0m \u001b[0;36m697.8\u001b[0m\u001b[0;34m,\u001b[0m \u001b[0;36m677.6\u001b[0m\u001b[0;34m,\u001b[0m \u001b[0;36m657.3\u001b[0m\u001b[0;34m,\u001b[0m \u001b[0;36m636.7\u001b[0m\u001b[0;34m,\u001b[0m \u001b[0;36m615.5\u001b[0m\u001b[0;34m,\u001b[0m \u001b[0;36m593.5\u001b[0m \u001b[0;34m,\u001b[0m\u001b[0;36m581.2\u001b[0m\u001b[0;34m]\u001b[0m\u001b[0;34m\u001b[0m\u001b[0m\n\u001b[1;32m     29\u001b[0m     \u001b[0minterpolation\u001b[0m \u001b[0;34m=\u001b[0m \u001b[0mscipy\u001b[0m\u001b[0;34m.\u001b[0m\u001b[0minterpolate\u001b[0m\u001b[0;34m.\u001b[0m\u001b[0minterp1d\u001b[0m\u001b[0;34m(\u001b[0m\u001b[0mT\u001b[0m\u001b[0;34m,\u001b[0m \u001b[0mrho_PP\u001b[0m\u001b[0;34m,\u001b[0m \u001b[0mkind\u001b[0m\u001b[0;34m=\u001b[0m\u001b[0;34m\"quadratic\"\u001b[0m\u001b[0;34m)\u001b[0m\u001b[0;34m\u001b[0m\u001b[0m\n\u001b[0;32m---> 30\u001b[0;31m     \u001b[0;32mreturn\u001b[0m \u001b[0mfloat\u001b[0m\u001b[0;34m(\u001b[0m\u001b[0minterpolation\u001b[0m\u001b[0;34m(\u001b[0m\u001b[0mtemperature\u001b[0m\u001b[0;34m)\u001b[0m\u001b[0;34m)\u001b[0m\u001b[0;34m\u001b[0m\u001b[0m\n\u001b[0m\u001b[1;32m     31\u001b[0m \u001b[0;34m\u001b[0m\u001b[0m\n\u001b[1;32m     32\u001b[0m \u001b[0;34m@\u001b[0m\u001b[0minteract\u001b[0m \u001b[0;34m(\u001b[0m\u001b[0mtemperature\u001b[0m\u001b[0;34m=\u001b[0m\u001b[0mwidgets\u001b[0m\u001b[0;34m.\u001b[0m\u001b[0mFloatSlider\u001b[0m\u001b[0;34m(\u001b[0m\u001b[0mvalue\u001b[0m\u001b[0;34m=\u001b[0m\u001b[0;34m-\u001b[0m\u001b[0;36m120\u001b[0m\u001b[0;34m,\u001b[0m \u001b[0mmin\u001b[0m\u001b[0;34m=\u001b[0m\u001b[0;34m-\u001b[0m\u001b[0;36m150\u001b[0m\u001b[0;34m,\u001b[0m \u001b[0mmax\u001b[0m\u001b[0;34m=\u001b[0m\u001b[0;34m-\u001b[0m\u001b[0;36m45\u001b[0m\u001b[0;34m)\u001b[0m\u001b[0;34m)\u001b[0m\u001b[0;34m\u001b[0m\u001b[0m\n",
      "\u001b[0;31mTypeError\u001b[0m: only size-1 arrays can be converted to Python scalars"
     ]
    }
   ],
   "source": [
    "output = heat_transfer_coefficient_PP(*sample.T)\n",
    "Si = ma.analyze(morris_problem, \n",
    "                sample, \n",
    "                output, \n",
    "                print_to_console=False, \n",
    "                grid_jump=grid_jump, \n",
    "                num_levels=num_levels)\n",
    "print(\"{:20s} {:>7s} {:>7s} {:>7s}\".format(\"Name\", \"mu\", \"mu_star\", \"sigma\"))\n",
    "for name, s1, st, mean in zip(morris_problem['names'], Si['mu'], Si['mu_star'], Si['sigma']):\n",
    "    print(\"{:20s} {:=7.2f} {:=7.2f} {:=7.2f}\".format(name, s1, st, mean))"
   ]
  },
  {
   "cell_type": "code",
   "execution_count": null,
   "metadata": {},
   "outputs": [],
   "source": [
    "#Scatter plots\n",
    "number_sims = 1000\n",
    "mc_velocity = np.random.uniform(0, 20, number_sims)\n",
    "mc_lengthscale = np.random.uniform(1, 2, number_sims)\n",
    "mc_temperature = np.random.uniform(-150, -45, number_sims)\n",
    "data = np.array((mc_velocity, mc_lengthscale, mc_temperature))\n",
    "data"
   ]
  },
  {
   "cell_type": "code",
   "execution_count": null,
   "metadata": {},
   "outputs": [],
   "source": [
    "for thing in data:\n",
    "    print(thing.shape)"
   ]
  },
  {
   "cell_type": "code",
   "execution_count": null,
   "metadata": {},
   "outputs": [],
   "source": [
    "heat_transfer_coefficient_PP(data[0], data[1], data[2])"
   ]
  },
  {
   "cell_type": "code",
   "execution_count": null,
   "metadata": {},
   "outputs": [],
   "source": []
  }
 ],
 "metadata": {
  "kernelspec": {
   "display_name": "Python 3",
   "language": "python",
   "name": "python3"
  },
  "language_info": {
   "codemirror_mode": {
    "name": "ipython",
    "version": 3
   },
   "file_extension": ".py",
   "mimetype": "text/x-python",
   "name": "python",
   "nbconvert_exporter": "python",
   "pygments_lexer": "ipython3",
   "version": "3.6.5"
  }
 },
 "nbformat": 4,
 "nbformat_minor": 2
}
